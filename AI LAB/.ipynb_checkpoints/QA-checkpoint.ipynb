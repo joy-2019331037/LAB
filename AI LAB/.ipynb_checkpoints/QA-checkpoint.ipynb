{
 "cells": [
  {
   "cell_type": "code",
   "execution_count": 5,
   "id": "b15cc740",
   "metadata": {},
   "outputs": [
    {
     "name": "stdout",
     "output_type": "stream",
     "text": [
      "Ask a question: ^z\n",
      "I couldn't find a relevant answer.\n",
      "\n"
     ]
    }
   ],
   "source": [
    "data = {\n",
    "    (\"sport\", \"play\"): \"play\",\n",
    "    (\"where\", \"hometown\"): \"hometown\",\n",
    "    (\"what\", \"favourite\"): \"favourite\",\n",
    "    (\"what\", \"department\"): \"department\",\n",
    "    (\"why\", \"sylhet\"): \"sylhet\",\n",
    "    (\"who\", \"goat\"): \"goat\",\n",
    "    (\"when\", \"match\"): \"match\",\n",
    "}\n",
    "\n",
    "def has_both_keywords(input_text, keywords):\n",
    "    input_lower = input_text.lower()\n",
    "    for keyword in keywords:\n",
    "        if keyword not in input_lower:\n",
    "            return False\n",
    "    return True\n",
    "    \n",
    "    # return all(keyword in input_lower for keyword in keywords)\n",
    "\n",
    "def has_one_keyword(input_text, keywords):\n",
    "    input_lower = input_text.lower()\n",
    "    for keyword in keywords:\n",
    "        if keyword in input_lower:\n",
    "            return True\n",
    "    return False\n",
    "user_input = \"\"\n",
    "\n",
    "user_input = input(\"Ask a question: \")\n",
    "\n",
    "answer_keyword = []\n",
    "for keywords, response in data.items():\n",
    "    if has_both_keywords(user_input, keywords):\n",
    "        answer_keyword.append(response)\n",
    "\n",
    "    elif has_one_keyword(user_input, keywords):\n",
    "        answer_keyword.append( response)\n",
    "\n",
    "if len(answer_keyword)==0 :\n",
    "    print(\"I couldn't find a relevant answer.\")\n",
    "\n",
    "# print(answer_keyword)\n",
    "\n",
    "for keyword in answer_keyword:\n",
    "    with open(\"qa.txt\", \"r\") as file:\n",
    "        for line in file:\n",
    "            if keyword in line.lower():\n",
    "                print(line.strip())\n",
    "print()"
   ]
  },
  {
   "cell_type": "code",
   "execution_count": null,
   "id": "0fe9f63a",
   "metadata": {},
   "outputs": [],
   "source": []
  },
  {
   "cell_type": "code",
   "execution_count": null,
   "id": "48a63c23",
   "metadata": {},
   "outputs": [],
   "source": []
  },
  {
   "cell_type": "code",
   "execution_count": null,
   "id": "4ef5f05f",
   "metadata": {},
   "outputs": [],
   "source": []
  }
 ],
 "metadata": {
  "kernelspec": {
   "display_name": "Python 3 (ipykernel)",
   "language": "python",
   "name": "python3"
  },
  "language_info": {
   "codemirror_mode": {
    "name": "ipython",
    "version": 3
   },
   "file_extension": ".py",
   "mimetype": "text/x-python",
   "name": "python",
   "nbconvert_exporter": "python",
   "pygments_lexer": "ipython3",
   "version": "3.11.4"
  }
 },
 "nbformat": 4,
 "nbformat_minor": 5
}
