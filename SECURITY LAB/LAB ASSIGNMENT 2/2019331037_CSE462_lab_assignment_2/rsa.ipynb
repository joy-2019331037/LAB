{
  "cells": [
    {
      "cell_type": "markdown",
      "metadata": {},
      "source": [
        "## Task 2 : Independent Implementation of RSA"
      ]
    },
    {
      "cell_type": "code",
      "execution_count": 59,
      "metadata": {
        "colab": {
          "base_uri": "https://localhost:8080/"
        },
        "id": "hFhq6wxsFya0",
        "outputId": "686ba479-27a1-4fa3-b3ed-4766f1c5c0be"
      },
      "outputs": [],
      "source": [
        "import os\n",
        "import time\n",
        "\n",
        "def get_power_2_factors(n: int) -> (int, int):\n",
        "    r = 0\n",
        "    d = n\n",
        "    while n > 0 and d % 2 == 0:\n",
        "        d = d // 2\n",
        "        r += 1\n",
        "    return r, d\n",
        "\n",
        "\n",
        "def miller_rabin_prime_test(n: int, k: int) -> bool:\n",
        "\n",
        "    # Factor powers of 2 from n - 1 s.t. n - 1 = 2^r * d\n",
        "    r, d = get_power_2_factors(n-1)\n",
        "\n",
        "    for i in range(k):\n",
        "        a = get_random_bits(n.bit_length())\n",
        "        while a not in range(2, n-2+1):\n",
        "            a = get_random_bits(n.bit_length())\n",
        "        x = pow(a, d, n)\n",
        "        if x == 1 or x == n - 1:\n",
        "            continue\n",
        "        n_1_found = False\n",
        "        for j in range(r-1):\n",
        "            x = pow(x, 2, n)\n",
        "            if x == n - 1:\n",
        "                n_1_found = True\n",
        "                break\n",
        "        if not n_1_found:\n",
        "            return False\n",
        "    return True\n",
        "\n",
        "\n",
        "def get_random_bits(bit_length: int) -> int:\n",
        "    return int.from_bytes(os.urandom((bit_length + 7) // 8), 'big')\n",
        "\n",
        "\n",
        "def generate_prime_number(bit_length: int) -> int:\n",
        "\n",
        "    # prime needs to be in range [2^(n-1), 2^n-1]\n",
        "    low = pow(2, bit_length - 1)\n",
        "    high = pow(2, bit_length) - 1\n",
        "\n",
        "    while True:\n",
        "\n",
        "        # Generate odd prime candidate in range\n",
        "        candidate_prime = get_random_bits(bit_length)\n",
        "        while candidate_prime not in range(low, high+1) or not candidate_prime % 2:\n",
        "            candidate_prime = get_random_bits(bit_length)\n",
        "\n",
        "        # with k rounds, miller rabin test gives false positive with probability (1/4)^k = 1/(2^2k)\n",
        "        k = 64\n",
        "        if miller_rabin_prime_test(candidate_prime, k):\n",
        "            return candidate_prime\n",
        "\n",
        "\n",
        "def extended_gcd(a, b):\n",
        "    if not b:\n",
        "        return 1, 0\n",
        "\n",
        "    u, v = extended_gcd(b, a % b)\n",
        "    return v, u - v * (a // b)\n",
        "\n",
        "\n",
        "def calculate_private_key(e: int, p: int, q: int) -> int:\n",
        "    u, _ = extended_gcd(e, (p-1)*(q-1))\n",
        "    return u\n",
        "\n",
        "\n",
        "def rsa_encrypt(plaintext, e, n):\n",
        "    ciphertext = []\n",
        "    for p in plaintext:\n",
        "        p_ascii = ord(p)\n",
        "        x = pow(p_ascii, e, n)\n",
        "        ciphertext.append(x)\n",
        "    return ciphertext\n",
        "\n",
        "\n",
        "\n",
        "\n",
        "def rsa_decrypt(ciphertext, d, n):\n",
        "    deciphertext = \"\"\n",
        "    for c in ciphertext:\n",
        "        x = pow(c, d, n)\n",
        "        deciphertext+= chr(x)\n",
        "    return deciphertext\n",
        "\n",
        "\n"
      ]
    },
    {
      "cell_type": "markdown",
      "metadata": {},
      "source": [
        "### RSA implementation for predefined value of e,n,d"
      ]
    },
    {
      "cell_type": "code",
      "execution_count": 60,
      "metadata": {},
      "outputs": [],
      "source": [
        "def rsa(rsa_key_size, plaintext, n, e, d):\n",
        "\n",
        "    prime_number_bit_length = rsa_key_size // 2\n",
        "\n",
        "    start_time = time.perf_counter()\n",
        "\n",
        "    end_time = time.perf_counter()\n",
        "    key_generation_time = end_time - start_time\n",
        "    print(\"Key Generation Time:\", key_generation_time, \"seconds\")\n",
        "\n",
        "\n",
        "    start_time = time.perf_counter()\n",
        "\n",
        "    cipher = rsa_encrypt(plaintext, e, n)\n",
        "\n",
        "    end_time = time.perf_counter()\n",
        "    encryption_time = end_time - start_time\n",
        "    print(\"Encryption Time:\", encryption_time, \"seconds\")\n",
        "\n",
        "    print(\"Cipher Text:\", cipher)\n",
        "\n",
        "    start_time = time.perf_counter()\n",
        "\n",
        "    decipher = rsa_decrypt(cipher, d, n)\n",
        "\n",
        "    end_time = time.perf_counter()\n",
        "    decryption_time = end_time - start_time\n",
        "    print(\"Decryption Time:\", decryption_time, \"seconds\")\n",
        "\n",
        "    print(\"Deciphered Text:\", decipher)\n"
      ]
    },
    {
      "cell_type": "code",
      "execution_count": 61,
      "metadata": {},
      "outputs": [
        {
          "name": "stdout",
          "output_type": "stream",
          "text": [
            "Key Generation Time: 5.00003807246685e-07 seconds\n",
            "Encryption Time: 1.7200014553964138e-05 seconds\n",
            "Cipher Text: [53296, 32514, 13868, 59107, 55418, 47636, 13868, 21544, 47636, 47636, 32514, 47636, 59107, 55418, 47636, 13868]\n",
            "Decryption Time: 3.709999145939946e-05 seconds\n",
            "Deciphered Text: BUETCSEVSSUSTCSE\n"
          ]
        }
      ],
      "source": [
        "rsa_key_size=16\n",
        "n=60491\n",
        "e=7\n",
        "d=17143\n",
        "\n",
        "plaintext = \"BUETCSEVSSUSTCSE\"\n",
        "rsa(rsa_key_size, plaintext, n, e, d)"
      ]
    },
    {
      "cell_type": "code",
      "execution_count": 62,
      "metadata": {},
      "outputs": [
        {
          "name": "stdout",
          "output_type": "stream",
          "text": [
            "Key Generation Time: 6.00004568696022e-07 seconds\n",
            "Encryption Time: 2.0400038920342922e-05 seconds\n",
            "Cipher Text: [1268954923, 3419348944, 3190642909, 1478590601, 1579240218, 2079935148, 3190642909, 1466721226, 2079935148, 2079935148, 3419348944, 2079935148, 1478590601, 1579240218, 2079935148, 3190642909]\n",
            "Decryption Time: 0.00014809996355324984 seconds\n",
            "Deciphered Text: BUETCSEVSSUSTCSE\n"
          ]
        }
      ],
      "source": [
        "rsa_key_size=32\n",
        "n=4292870399\n",
        "e=11\n",
        "d=1560996131\n",
        "\n",
        "plaintext = \"BUETCSEVSSUSTCSE\"\n",
        "rsa(rsa_key_size, plaintext, n, e, d)"
      ]
    },
    {
      "cell_type": "code",
      "execution_count": 63,
      "metadata": {},
      "outputs": [
        {
          "name": "stdout",
          "output_type": "stream",
          "text": [
            "Key Generation Time: 4.00003045797348e-07 seconds\n",
            "Encryption Time: 1.109996810555458e-05 seconds\n",
            "Cipher Text: [287496, 614125, 328509, 592704, 300763, 571787, 328509, 636056, 571787, 571787, 614125, 571787, 592704, 300763, 571787, 328509]\n",
            "Decryption Time: 0.0003766000154428184 seconds\n",
            "Deciphered Text: BUETCSEVSSUSTCSE\n"
          ]
        }
      ],
      "source": [
        "rsa_key_size=64\n",
        "n=18446743979220271189\n",
        "e=3\n",
        "d=12297829313753557747\n",
        "\n",
        "plaintext = \"BUETCSEVSSUSTCSE\"\n",
        "rsa(rsa_key_size, plaintext, n, e, d)"
      ]
    },
    {
      "cell_type": "code",
      "execution_count": 64,
      "metadata": {},
      "outputs": [
        {
          "name": "stdout",
          "output_type": "stream",
          "text": [
            "Key Generation Time: 3.00002284348011e-07 seconds\n",
            "Encryption Time: 1.2499978765845299e-05 seconds\n",
            "Cipher Text: [287496, 614125, 328509, 592704, 300763, 571787, 328509, 636056, 571787, 571787, 614125, 571787, 592704, 300763, 571787, 328509]\n",
            "Decryption Time: 0.0005474999779835343 seconds\n",
            "Deciphered Text: BUETCSEVSSUSTCSE\n"
          ]
        }
      ],
      "source": [
        "rsa_key_size=96\n",
        "n=79228162514229434696431832827\n",
        "e=3\n",
        "d=52818775009485914497652274427\n",
        "\n",
        "plaintext = \"BUETCSEVSSUSTCSE\"\n",
        "rsa(rsa_key_size, plaintext, n, e, d)"
      ]
    },
    {
      "cell_type": "markdown",
      "metadata": {},
      "source": [
        "### RSA implementation with randomly generated value of p & q"
      ]
    },
    {
      "cell_type": "code",
      "execution_count": 65,
      "metadata": {},
      "outputs": [],
      "source": [
        "def rsa(rsa_key_size, plaintext):\n",
        "\n",
        "    prime_number_bit_length = rsa_key_size // 2\n",
        "\n",
        "    start_time = time.perf_counter()\n",
        "\n",
        "    # Generate prime numbers p and q\n",
        "    p = generate_prime_number(prime_number_bit_length)\n",
        "    q = generate_prime_number(prime_number_bit_length)\n",
        "\n",
        "    end_time = time.perf_counter()\n",
        "    key_generation_time = end_time - start_time\n",
        "    print(\"Key Generation Time:\", key_generation_time, \"seconds\")\n",
        "\n",
        "    n = p * q\n",
        "    e = 65537\n",
        "    \n",
        "    d = calculate_private_key(e,p,q)\n",
        "    \n",
        "    start_time = time.perf_counter()\n",
        "\n",
        "    cipher = rsa_encrypt(plaintext, e, n)\n",
        "\n",
        "    end_time = time.perf_counter()\n",
        "    encryption_time = end_time - start_time\n",
        "    print(\"Encryption Time:\", encryption_time, \"seconds\")\n",
        "\n",
        "    print(\"Cipher Text:\", cipher)\n",
        "\n",
        "    # Decrypt\n",
        "    start_time = time.perf_counter()\n",
        "\n",
        "    decipher = rsa_decrypt(cipher, d, n)\n",
        "\n",
        "    end_time = time.perf_counter()\n",
        "    decryption_time = end_time - start_time\n",
        "    print(\"Decryption Time:\", decryption_time, \"seconds\")\n",
        "\n",
        "    print(\"Deciphered Text:\", decipher)\n"
      ]
    },
    {
      "cell_type": "code",
      "execution_count": 66,
      "metadata": {},
      "outputs": [
        {
          "name": "stdout",
          "output_type": "stream",
          "text": [
            "Key Generation Time: 0.0006315999780781567 seconds\n",
            "Encryption Time: 7.100001676008105e-05 seconds\n",
            "Cipher Text: [1670895383, 921725888, 1108904878, 1391361755, 1335792962, 115770154, 1108904878, 2066953858, 115770154, 115770154, 921725888, 115770154, 1391361755, 1335792962, 115770154, 1108904878]\n",
            "Decryption Time: 0.00020589999621734023 seconds\n",
            "Deciphered Text: BUETCSEVSSUSTCSE\n"
          ]
        }
      ],
      "source": [
        "plaintext = input('Please enter the plaintext : ')\n",
        "#BUETCSEVSSUSTCSE\n",
        "rsa_key_size = int(input(\"Please enter key size(16/32/64/96) : \"))\n",
        "\n",
        "rsa(rsa_key_size, plaintext)"
      ]
    },
    {
      "cell_type": "code",
      "execution_count": null,
      "metadata": {},
      "outputs": [],
      "source": []
    }
  ],
  "metadata": {
    "colab": {
      "provenance": []
    },
    "kernelspec": {
      "display_name": "Python 3",
      "name": "python3"
    },
    "language_info": {
      "codemirror_mode": {
        "name": "ipython",
        "version": 3
      },
      "file_extension": ".py",
      "mimetype": "text/x-python",
      "name": "python",
      "nbconvert_exporter": "python",
      "pygments_lexer": "ipython3",
      "version": "3.12.2"
    }
  },
  "nbformat": 4,
  "nbformat_minor": 0
}
